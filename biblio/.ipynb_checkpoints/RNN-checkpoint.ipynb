{
 "cells": [
  {
   "cell_type": "markdown",
   "id": "0c10d2bc",
   "metadata": {},
   "source": [
    "# Recurrent Neural Network (RNN)"
   ]
  },
  {
   "cell_type": "markdown",
   "id": "123a34b0",
   "metadata": {},
   "source": [
    "Una red neuronal recurrente es un tipo de red neuronal que analiza secuencias de datos o redes de tiempo. Es decir, considera datos donde una entrada depende de las entradas anteriores. A diferencia de las redes neuronales clasicas y las CNN, las RNN son capaces de manejar entradas de diferente dimension, ademas del hecho de que a diferencia de una red neuronal clasica, permite compartir las caracteristicas aprendidas a partir de diferentes posiciones de la secuencia. A continuacion se muestran 2 de las posibles arquitecturas de una RNN.\n",
    "\n",
    "<img src=\"rnn.webp\"/>\n",
    "\n",
    "Como vemos en la imagen, a diferencia de una red neuronal clasica donde para cada entrada obtenemos una salida, pero no se comparte conocimiento referente a lo obtenido en una entrada cualquiera. En una RNN parte de la informacion que se obtiene al procesar una entrada es considerada durante el procesamiento de la siguiente entrada, donde:\n",
    "<ul>\n",
    "    <li>$x_t \\in \\mathbb{R}$ is the input at time step $t$. To keep things simple, we assume that $x_t$ is a scalar value with a single feature. You can extend this idea to a  $d$-dimensional feature vector.</li>\n",
    "    <li>$y_t \\in \\mathbb{R}$ is the output of the network at time step . We can produce multiple outputs in the network, but for this example, we assume that there is one output</li>\n",
    "    <li>$h_t \\in \\mathbb{R}^m$ vector stores the values of the hidden units/states at time $t$. This is also called the <b>current context</b>. $m$ is the number of hidden units. $h_0$vector is initialized to zero. <em style=\"color:red\">Segun entendi, $h_t$ es la salida de las funciones de activacion de las diferentes neuronas de la capa en el tiempo $t$.</em></li>\n",
    "    <li>$w_x \\in \\mathbb{R}^m$ are weights associated with inputs in the recurrent layer. <em style=\"color:red\">Se utiliza el mismo $w_x$ en cada capa recurrente, sin importar el tiempo $t$.</em></li>\n",
    "    <li>$w_h \\in \\mathbb{R}^{m \\times m}$ are weights associated with hidden units in the recurrent layer. <em style=\"color:red\">Segun entendi, $w_h$ podemos interpretarlo como los pesos que cada neurona de la capa actual le asigna a cada una de las salidas de la funcion de activacion ($h_t$) de la capa anterior, es decir, en el tiempo $t-1$. Se utiliza el mismo $w_h$ en cada capa recurrente, sin importar el tiempo $t$.</em></li>\n",
    "    <li>$w_y \\in \\mathbb{R}^m$ are weights associated with hidden units to output units. <em style=\"color:red\">Segun entendi, $w_y$ podemos interpretarlo como los pesos que tiene para la salida, no para las neuronas de la capa actual, la salida de la funcion de activacion de la capa anterior, o lo que es lo mismo en el tiempo $t-1$. Se utiliza el mismo $w_y$ en cada capa recurrente, sin importar el tiempo $t$.</em></li>\n",
    "    <li>$b_h \\in \\mathbb{R}^m$ is the bias associated with the recurrent layer. <em style=\"color:red\">Es decir, es el bias a partir del cual se calcula la salida de la funcion de activacion de cada una de las neuronas en la capa actual. $b_h$ es el mismo para cada capa.</em></li>\n",
    "    <li>$b_y \\in \\mathbb{R}$ is the bias associated with the feedforward layer. <em style=\"color:red\">Es decir, es el bias que se usa para calcular la salida de la capa actual, ojo, para la salida de la capa actual, no para la salida de la funcion de activacion de la capa actual. $b_y$ es el mismo para cada capa.</em></li>\n",
    "</ul>"
   ]
  },
  {
   "cell_type": "markdown",
   "id": "75519cbb",
   "metadata": {},
   "source": [
    "# Forward pass"
   ]
  },
  {
   "cell_type": "markdown",
   "id": "238f3ffe",
   "metadata": {},
   "source": [
    "Las siguientes ecuaciones describen el proceso de propagacion hacia adelante en una RNN. Lo cual explica la relacion entre las variables antes mecionadas:<br/>\n",
    "\n",
    "$h_{t + 1} = f(x_t, h_t, w_x, w_h, b_h) = f(x_t \\cdot w_x + h_t \\cdot w_h + b_h)$, y de ahí:<br/><br/>\n",
    "$y_t = f(h_t, w_y) = f(h_{t+1} \\cdot w_y + b_y)$\n",
    "\n",
    "<b>OJO:</b> La funcion de activacion $f$ no tiene que ser la misma para $h_{t + 1}$ y $y_t$, incluso rara vez lo es. Incluso, en el caso de $h_{t + 1}$ usualmente se suele usar <b>RELU</b> y <b>tanh</b> como funciones de activacion. Mientras que en el caso de $y_t$ la funcion de activacion suele ser <b>softmax</b> y <b>sigm</b>.\n",
    "\n",
    "<img src=\"AQ52bwW55GsJt6HTxPDuMA.gif\"/>"
   ]
  },
  {
   "cell_type": "markdown",
   "id": "ef7bb71f",
   "metadata": {},
   "source": [
    "# Backward pass"
   ]
  },
  {
   "cell_type": "markdown",
   "id": "d9a257a1",
   "metadata": {},
   "source": [
    "Primero se propaga el error a traves de $y_t$ y luego de $h_{t+1}$. Ademas, a fin de realizar una propagacion del error, tenemos que calcular dicho error. Para ello tenemos que calcular la diferencia entre el valor predicho y el esperado utilizando alguna funcion de costo. Por ejemplo, utilizando <b>cross-entropy</b> el costo para una determinada salida $y^{pred}$ en un tiempo $t$ seria:\n",
    "\n",
    "$L_t(y_t^{pred}, y_t^{true}) = - y_t^{true} \\cdot \\log( y_t^{pred}) - (1 - y_t^{true}) \\cdot \\log( 1 - y_t^{pred})$<br/>\n",
    "\n",
    "y considerando que tenemos $T_x$ tiempos o lo que es lo mismo entradas, el costo total seria:<br/>\n",
    "$L = \\sum_{t = 1}^{T_x} L_t(y_t^{pred}, y_t^{true})$"
   ]
  },
  {
   "cell_type": "markdown",
   "id": "e6e73551",
   "metadata": {},
   "source": [
    "# Tangente hiperbolica"
   ]
  },
  {
   "cell_type": "markdown",
   "id": "be09f3bc",
   "metadata": {},
   "source": [
    "La funcion de activacion tangente hiperbolica se define como:\n",
    "$$tanh = \\frac{e^x - e^{-x}}{e^x + e^{-x}}$$"
   ]
  },
  {
   "cell_type": "markdown",
   "id": "71e48529",
   "metadata": {},
   "source": [
    "# Ejemplo 1"
   ]
  },
  {
   "cell_type": "code",
   "execution_count": 1,
   "id": "0ce9335f",
   "metadata": {},
   "outputs": [],
   "source": [
    "import numpy as np\n",
    "import tensorflow as tf\n",
    "from tensorflow import keras\n",
    "from tensorflow.keras import layers"
   ]
  },
  {
   "cell_type": "markdown",
   "id": "a3d2f1dd",
   "metadata": {},
   "source": [
    "Generamos un conjunto de datos de numeros flotantes con 32 filas, 10 columnas y 8 subcolumnas por cada columna."
   ]
  },
  {
   "cell_type": "code",
   "execution_count": 2,
   "id": "2e831e91",
   "metadata": {},
   "outputs": [
    {
     "data": {
      "text/plain": [
       "(32, 10, 8)"
      ]
     },
     "execution_count": 2,
     "metadata": {},
     "output_type": "execute_result"
    }
   ],
   "source": [
    "inputs = np.random.random([32, 10, 8]).astype(np.float32)\n",
    "inputs.shape"
   ]
  },
  {
   "cell_type": "code",
   "execution_count": 3,
   "id": "5e1689bc",
   "metadata": {},
   "outputs": [
    {
     "data": {
      "text/plain": [
       "array([[0.4070065 , 0.8896648 , 0.81957793, 0.4020825 , 0.7419898 ,\n",
       "        0.18621309, 0.33287525, 0.7357225 ],\n",
       "       [0.81426406, 0.29469994, 0.3340006 , 0.84657156, 0.30995393,\n",
       "        0.77272683, 0.20382638, 0.74945015],\n",
       "       [0.8223017 , 0.5213581 , 0.10462426, 0.88082844, 0.43397206,\n",
       "        0.91504693, 0.54712915, 0.40296543],\n",
       "       [0.19270132, 0.33252874, 0.39385745, 0.26135954, 0.7569539 ,\n",
       "        0.91320807, 0.8164365 , 0.62216675],\n",
       "       [0.951092  , 0.90217537, 0.71958417, 0.35045484, 0.01913104,\n",
       "        0.81338584, 0.42093435, 0.3683841 ],\n",
       "       [0.17071505, 0.23515086, 0.82480866, 0.12671651, 0.4172559 ,\n",
       "        0.41402528, 0.0154671 , 0.17722414],\n",
       "       [0.9021472 , 0.40257013, 0.20666333, 0.05579093, 0.31228483,\n",
       "        0.7916251 , 0.9598759 , 0.64904255],\n",
       "       [0.17305622, 0.84087646, 0.96802306, 0.19852792, 0.660291  ,\n",
       "        0.32950756, 0.11311412, 0.17253354],\n",
       "       [0.9164493 , 0.79244   , 0.08561972, 0.41376713, 0.9890838 ,\n",
       "        0.94406825, 0.914312  , 0.24583103],\n",
       "       [0.38735184, 0.8581216 , 0.495682  , 0.6774171 , 0.18718487,\n",
       "        0.9797466 , 0.33177274, 0.79066986]], dtype=float32)"
      ]
     },
     "execution_count": 3,
     "metadata": {},
     "output_type": "execute_result"
    }
   ],
   "source": [
    "inputs[3,:,:]"
   ]
  },
  {
   "cell_type": "markdown",
   "id": "33d05003",
   "metadata": {},
   "source": [
    "Creamos una capa neuronal recurrente de 4 neuronas, por lo que a su vez obtendremos ese mismo numero de salidas."
   ]
  },
  {
   "cell_type": "code",
   "execution_count": 4,
   "id": "a753741f",
   "metadata": {},
   "outputs": [],
   "source": [
    "simple_rnn = tf.keras.layers.SimpleRNN(4)"
   ]
  },
  {
   "cell_type": "markdown",
   "id": "ffe8d795",
   "metadata": {},
   "source": [
    "Obtenemos la salida de la capa"
   ]
  },
  {
   "cell_type": "code",
   "execution_count": 5,
   "id": "d00a480b",
   "metadata": {},
   "outputs": [
    {
     "data": {
      "text/plain": [
       "TensorShape([32, 4])"
      ]
     },
     "execution_count": 5,
     "metadata": {},
     "output_type": "execute_result"
    }
   ],
   "source": [
    "output = simple_rnn(inputs)\n",
    "output.shape"
   ]
  },
  {
   "cell_type": "markdown",
   "id": "5a153bf3",
   "metadata": {},
   "source": [
    "Tambien podemos usar los parametros **return_sequences** y **return_state** para retornar la ultima salida en la ultima secuencia de salida y el ultimo estado respectivamente."
   ]
  },
  {
   "cell_type": "code",
   "execution_count": 6,
   "id": "15178e3c",
   "metadata": {},
   "outputs": [],
   "source": [
    "simple_rnn = tf.keras.layers.SimpleRNN(4, return_sequences=True, return_state=True)"
   ]
  },
  {
   "cell_type": "code",
   "execution_count": 7,
   "id": "a0cdc958",
   "metadata": {},
   "outputs": [
    {
     "data": {
      "text/plain": [
       "(TensorShape([32, 10, 4]), TensorShape([32, 4]))"
      ]
     },
     "execution_count": 7,
     "metadata": {},
     "output_type": "execute_result"
    }
   ],
   "source": [
    "# whole_sequence_output has shape `[32, 10, 4]`.\n",
    "# final_state has shape `[32, 4]`.\n",
    "whole_sequence_output, final_state = simple_rnn(inputs)\n",
    "whole_sequence_output.shape, final_state.shape"
   ]
  },
  {
   "cell_type": "code",
   "execution_count": 8,
   "id": "0d3e3045",
   "metadata": {},
   "outputs": [
    {
     "data": {
      "text/plain": [
       "<tf.Tensor: shape=(10, 4), dtype=float32, numpy=\n",
       "array([[-0.68440056,  0.46755937,  0.01805103, -0.19661747],\n",
       "       [-0.5438615 ,  0.45101663, -0.11780576,  0.6261221 ],\n",
       "       [-0.27797255,  0.6958761 , -0.6348162 ,  0.26410097],\n",
       "       [-0.6945754 , -0.20148787, -0.9054739 , -0.08109827],\n",
       "       [-0.9747621 ,  0.89350027,  0.43181825,  0.8953192 ],\n",
       "       [ 0.14868014, -0.33520335, -0.85544205,  0.604572  ],\n",
       "       [-0.92495114,  0.8943724 , -0.5431643 , -0.20639314],\n",
       "       [-0.84753776, -0.4716176 , -0.47462502,  0.79109913],\n",
       "       [-0.6062929 ,  0.92445815, -0.76536727,  0.33101448],\n",
       "       [-0.861946  ,  0.15179694, -0.6704058 ,  0.5514135 ]],\n",
       "      dtype=float32)>"
      ]
     },
     "execution_count": 8,
     "metadata": {},
     "output_type": "execute_result"
    }
   ],
   "source": [
    "whole_sequence_output[3,:,:]"
   ]
  },
  {
   "cell_type": "markdown",
   "id": "b58e1350",
   "metadata": {},
   "source": [
    "# Ejemplo"
   ]
  },
  {
   "cell_type": "markdown",
   "id": "f0c05fb2",
   "metadata": {},
   "source": [
    "Este ejemplo fue tomado de https://machinelearningmastery.com/understanding-simple-recurrent-neural-networks-in-keras/"
   ]
  },
  {
   "cell_type": "code",
   "execution_count": 9,
   "id": "83ba5c2f",
   "metadata": {},
   "outputs": [],
   "source": [
    "from pandas import read_csv\n",
    "import numpy as np\n",
    "from keras.models import Sequential\n",
    "from keras.layers import Dense, SimpleRNN\n",
    "from sklearn.preprocessing import MinMaxScaler\n",
    "from sklearn.metrics import mean_squared_error\n",
    "import math\n",
    "import matplotlib.pyplot as plt"
   ]
  },
  {
   "cell_type": "markdown",
   "id": "dca87d93",
   "metadata": {},
   "source": [
    "<h3>Analisis descriptivo</h3>"
   ]
  },
  {
   "cell_type": "code",
   "execution_count": 10,
   "id": "ee0d2dae",
   "metadata": {},
   "outputs": [
    {
     "data": {
      "text/html": [
       "<div>\n",
       "<style scoped>\n",
       "    .dataframe tbody tr th:only-of-type {\n",
       "        vertical-align: middle;\n",
       "    }\n",
       "\n",
       "    .dataframe tbody tr th {\n",
       "        vertical-align: top;\n",
       "    }\n",
       "\n",
       "    .dataframe thead th {\n",
       "        text-align: right;\n",
       "    }\n",
       "</style>\n",
       "<table border=\"1\" class=\"dataframe\">\n",
       "  <thead>\n",
       "    <tr style=\"text-align: right;\">\n",
       "      <th></th>\n",
       "      <th>Month</th>\n",
       "      <th>Sunspots</th>\n",
       "    </tr>\n",
       "  </thead>\n",
       "  <tbody>\n",
       "    <tr>\n",
       "      <th>0</th>\n",
       "      <td>1749-01</td>\n",
       "      <td>58.0</td>\n",
       "    </tr>\n",
       "    <tr>\n",
       "      <th>1</th>\n",
       "      <td>1749-02</td>\n",
       "      <td>62.6</td>\n",
       "    </tr>\n",
       "    <tr>\n",
       "      <th>2</th>\n",
       "      <td>1749-03</td>\n",
       "      <td>70.0</td>\n",
       "    </tr>\n",
       "    <tr>\n",
       "      <th>3</th>\n",
       "      <td>1749-04</td>\n",
       "      <td>55.7</td>\n",
       "    </tr>\n",
       "    <tr>\n",
       "      <th>4</th>\n",
       "      <td>1749-05</td>\n",
       "      <td>85.0</td>\n",
       "    </tr>\n",
       "  </tbody>\n",
       "</table>\n",
       "</div>"
      ],
      "text/plain": [
       "     Month  Sunspots\n",
       "0  1749-01      58.0\n",
       "1  1749-02      62.6\n",
       "2  1749-03      70.0\n",
       "3  1749-04      55.7\n",
       "4  1749-05      85.0"
      ]
     },
     "execution_count": 10,
     "metadata": {},
     "output_type": "execute_result"
    }
   ],
   "source": [
    "sunspots_url = 'https://raw.githubusercontent.com/jbrownlee/Datasets/master/monthly-sunspots.csv'\n",
    "df = read_csv(sunspots_url)\n",
    "df.head()"
   ]
  },
  {
   "cell_type": "code",
   "execution_count": 11,
   "id": "de9e0afe",
   "metadata": {},
   "outputs": [
    {
     "data": {
      "text/html": [
       "<div>\n",
       "<style scoped>\n",
       "    .dataframe tbody tr th:only-of-type {\n",
       "        vertical-align: middle;\n",
       "    }\n",
       "\n",
       "    .dataframe tbody tr th {\n",
       "        vertical-align: top;\n",
       "    }\n",
       "\n",
       "    .dataframe thead th {\n",
       "        text-align: right;\n",
       "    }\n",
       "</style>\n",
       "<table border=\"1\" class=\"dataframe\">\n",
       "  <thead>\n",
       "    <tr style=\"text-align: right;\">\n",
       "      <th></th>\n",
       "      <th>Sunspots</th>\n",
       "    </tr>\n",
       "  </thead>\n",
       "  <tbody>\n",
       "    <tr>\n",
       "      <th>count</th>\n",
       "      <td>2820.000000</td>\n",
       "    </tr>\n",
       "    <tr>\n",
       "      <th>mean</th>\n",
       "      <td>51.265957</td>\n",
       "    </tr>\n",
       "    <tr>\n",
       "      <th>std</th>\n",
       "      <td>43.448971</td>\n",
       "    </tr>\n",
       "    <tr>\n",
       "      <th>min</th>\n",
       "      <td>0.000000</td>\n",
       "    </tr>\n",
       "    <tr>\n",
       "      <th>25%</th>\n",
       "      <td>15.700000</td>\n",
       "    </tr>\n",
       "    <tr>\n",
       "      <th>50%</th>\n",
       "      <td>42.000000</td>\n",
       "    </tr>\n",
       "    <tr>\n",
       "      <th>75%</th>\n",
       "      <td>74.925000</td>\n",
       "    </tr>\n",
       "    <tr>\n",
       "      <th>max</th>\n",
       "      <td>253.800000</td>\n",
       "    </tr>\n",
       "  </tbody>\n",
       "</table>\n",
       "</div>"
      ],
      "text/plain": [
       "          Sunspots\n",
       "count  2820.000000\n",
       "mean     51.265957\n",
       "std      43.448971\n",
       "min       0.000000\n",
       "25%      15.700000\n",
       "50%      42.000000\n",
       "75%      74.925000\n",
       "max     253.800000"
      ]
     },
     "execution_count": 11,
     "metadata": {},
     "output_type": "execute_result"
    }
   ],
   "source": [
    "df.describe()"
   ]
  },
  {
   "cell_type": "markdown",
   "id": "e6cac05a",
   "metadata": {},
   "source": [
    "<h3>Construccion del modelo</h3>"
   ]
  },
  {
   "cell_type": "markdown",
   "id": "bab649f1",
   "metadata": {},
   "source": [
    "The function below returns a model that includes a SimpleRNN layer and a Dense layer for learning sequential data. The input_shape specifies the parameter (time_steps x features). We’ll simplify everything and use univariate data, i.e., one feature only; the time steps are discussed below."
   ]
  },
  {
   "cell_type": "code",
   "execution_count": 12,
   "id": "7f385668",
   "metadata": {},
   "outputs": [],
   "source": [
    "def create_RNN(hidden_units, dense_units, input_shape, activation):\n",
    "    model = Sequential()\n",
    "    model.add(SimpleRNN(hidden_units, input_shape = input_shape, activation = activation[0]))\n",
    "    model.add(Dense(units = dense_units, activation = activation[1]))\n",
    "    model.compile(loss='mean_squared_error', optimizer='adam')\n",
    "    return model\n",
    "\n",
    "demo_model = create_RNN(2, 1, (3,1), activation=['linear', 'linear'])"
   ]
  },
  {
   "cell_type": "markdown",
   "id": "43af8224",
   "metadata": {},
   "source": [
    "The object demo_model is returned with two hidden units created via the SimpleRNN layer and one dense unit created via the Dense layer. The input_shape is set at 3×1, and a linear activation function is used in both layers for simplicity. Just to recall, the linear activation function makes no change in the input. The network looks as follows:"
   ]
  },
  {
   "cell_type": "code",
   "execution_count": 13,
   "id": "89dcfa63",
   "metadata": {},
   "outputs": [
    {
     "name": "stdout",
     "output_type": "stream",
     "text": [
      "Model: \"sequential\"\n",
      "_________________________________________________________________\n",
      " Layer (type)                Output Shape              Param #   \n",
      "=================================================================\n",
      " simple_rnn_2 (SimpleRNN)    (None, 2)                 8         \n",
      "                                                                 \n",
      " dense (Dense)               (None, 1)                 3         \n",
      "                                                                 \n",
      "=================================================================\n",
      "Total params: 11\n",
      "Trainable params: 11\n",
      "Non-trainable params: 0\n",
      "_________________________________________________________________\n"
     ]
    }
   ],
   "source": [
    "demo_model.summary()"
   ]
  },
  {
   "cell_type": "code",
   "execution_count": 14,
   "id": "7f37c558",
   "metadata": {},
   "outputs": [
    {
     "name": "stdout",
     "output_type": "stream",
     "text": [
      "wx =  [[ 1.047315  -1.2990991]]  wh =  [[-0.2250154 -0.9743552]\n",
      " [-0.9743552  0.2250154]]  bh =  [0. 0.]  wy = [[-0.8842149]\n",
      " [-0.7020458]] by =  [0.]\n"
     ]
    }
   ],
   "source": [
    "wx = demo_model.get_weights()[0]\n",
    "wh = demo_model.get_weights()[1]\n",
    "bh = demo_model.get_weights()[2]\n",
    "wy = demo_model.get_weights()[3]\n",
    "by = demo_model.get_weights()[4]\n",
    " \n",
    "print('wx = ', wx, ' wh = ', wh, ' bh = ', bh, ' wy =', wy, 'by = ', by)"
   ]
  },
  {
   "cell_type": "code",
   "execution_count": 15,
   "id": "366c20e5",
   "metadata": {},
   "outputs": [
    {
     "name": "stdout",
     "output_type": "stream",
     "text": [
      "1/1 [==============================] - 0s 201ms/step\n",
      "h1 =  [[ 1.047315   -1.29909909]] h2 =  [[ 3.12475198 -3.91097232]] h3 =  [[ 6.24950398 -7.82194467]]\n",
      "Prediction from network  [[-0.03454065]]\n",
      "Prediction from our computation  [[-0.03454101]]\n"
     ]
    }
   ],
   "source": [
    "x = np.array([1, 2, 3])\n",
    "# Reshape the input to the required sample_size x time_steps x features \n",
    "x_input = np.reshape(x,(1, 3, 1))\n",
    "y_pred_model = demo_model.predict(x_input)\n",
    " \n",
    " \n",
    "m = 2\n",
    "h0 = np.zeros(m)\n",
    "h1 = np.dot(x[0], wx) + h0 + bh\n",
    "h2 = np.dot(x[1], wx) + np.dot(h1,wh) + bh\n",
    "h3 = np.dot(x[2], wx) + np.dot(h2,wh) + bh\n",
    "o3 = np.dot(h3, wy) + by\n",
    " \n",
    "print('h1 = ', h1,'h2 = ', h2,'h3 = ', h3)\n",
    " \n",
    "print(\"Prediction from network \", y_pred_model)\n",
    "print(\"Prediction from our computation \", o3)"
   ]
  },
  {
   "cell_type": "code",
   "execution_count": 16,
   "id": "2f2864ec",
   "metadata": {},
   "outputs": [],
   "source": [
    "def get_train_test(url, split_percent=0.8):\n",
    "    df = read_csv(url, usecols=[1], engine='python')\n",
    "    data = np.array(df.values.astype('float32'))\n",
    "    scaler = MinMaxScaler(feature_range=(0, 1))\n",
    "    data = scaler.fit_transform(data).flatten()\n",
    "    n = len(data)\n",
    "    # Point for splitting data into train and test\n",
    "    split = int(n*split_percent)\n",
    "    train_data = data[range(split)]\n",
    "    test_data = data[split:]\n",
    "    return train_data, test_data, data\n",
    " \n",
    "train_data, test_data, data = get_train_test(sunspots_url)"
   ]
  },
  {
   "cell_type": "code",
   "execution_count": 17,
   "id": "e4b26cec",
   "metadata": {},
   "outputs": [
    {
     "data": {
      "text/plain": [
       "array([0.22852638, 0.24665089, 0.2758077 , ..., 0.3506698 , 0.4546887 ,\n",
       "       0.4862096 ], dtype=float32)"
      ]
     },
     "execution_count": 17,
     "metadata": {},
     "output_type": "execute_result"
    }
   ],
   "source": [
    "train_data"
   ]
  },
  {
   "cell_type": "markdown",
   "id": "ab5f643a",
   "metadata": {},
   "source": [
    "The next step is to prepare the data for Keras model training. The input array should be shaped as: total_samples x time_steps x features.\n",
    "\n",
    "There are many ways of preparing time series data for training. We’ll create input rows with non-overlapping time steps. An example for time steps = 2 is shown in the figure below. Here, time steps denotes the number of previous time steps to use for predicting the next value of the time series data.\n",
    "\n",
    "<img src=\"rnnCode2-768x407.png\"/>"
   ]
  },
  {
   "cell_type": "code",
   "execution_count": 18,
   "id": "8c790a30",
   "metadata": {},
   "outputs": [
    {
     "name": "stdout",
     "output_type": "stream",
     "text": [
      "X[0].shape (12, 1)\n",
      "trainX.shape (187, 12, 1) trainY.shape (187,)\n",
      "X[0].shape (12, 1)\n",
      "testX.shape (46, 12, 1) testY.shape (46,)\n"
     ]
    }
   ],
   "source": [
    "# Prepare the input X and target Y\n",
    "def get_XY(dat, time_steps):\n",
    "    # Indices of target array, data.shape is (2256,)\n",
    "    Y_ind = np.arange(time_steps, len(dat), time_steps) #Y_ind.shape is (187,) and start at 12 with step of 12\n",
    "    Y = dat[Y_ind]\n",
    "    \n",
    "    # Prepare X\n",
    "    rows_x = len(Y) #187\n",
    "    X = dat[range(time_steps*rows_x)]\n",
    "    X = np.reshape(X, (rows_x, time_steps, 1))   \n",
    "    print(f\"X[0].shape {X[0].shape}\")\n",
    "    return X, Y\n",
    " \n",
    "time_steps = 12\n",
    "trainX, trainY = get_XY(train_data, time_steps)\n",
    "print(f\"trainX.shape {trainX.shape} trainY.shape {trainY.shape}\")\n",
    "testX, testY = get_XY(test_data, time_steps)\n",
    "print(f\"testX.shape {testX.shape} testY.shape {testY.shape}\")"
   ]
  },
  {
   "cell_type": "code",
   "execution_count": 19,
   "id": "fa41114e",
   "metadata": {},
   "outputs": [
    {
     "name": "stdout",
     "output_type": "stream",
     "text": [
      "Epoch 1/20\n",
      "187/187 - 1s - loss: 0.0158 - 1s/epoch - 6ms/step\n",
      "Epoch 2/20\n",
      "187/187 - 0s - loss: 0.0086 - 432ms/epoch - 2ms/step\n",
      "Epoch 3/20\n",
      "187/187 - 0s - loss: 0.0071 - 455ms/epoch - 2ms/step\n",
      "Epoch 4/20\n",
      "187/187 - 0s - loss: 0.0058 - 432ms/epoch - 2ms/step\n",
      "Epoch 5/20\n",
      "187/187 - 0s - loss: 0.0050 - 432ms/epoch - 2ms/step\n",
      "Epoch 6/20\n",
      "187/187 - 0s - loss: 0.0046 - 439ms/epoch - 2ms/step\n",
      "Epoch 7/20\n",
      "187/187 - 0s - loss: 0.0044 - 432ms/epoch - 2ms/step\n",
      "Epoch 8/20\n",
      "187/187 - 0s - loss: 0.0042 - 439ms/epoch - 2ms/step\n",
      "Epoch 9/20\n",
      "187/187 - 0s - loss: 0.0040 - 479ms/epoch - 3ms/step\n",
      "Epoch 10/20\n",
      "187/187 - 0s - loss: 0.0040 - 470ms/epoch - 3ms/step\n",
      "Epoch 11/20\n",
      "187/187 - 0s - loss: 0.0041 - 470ms/epoch - 3ms/step\n",
      "Epoch 12/20\n",
      "187/187 - 0s - loss: 0.0038 - 464ms/epoch - 2ms/step\n",
      "Epoch 13/20\n",
      "187/187 - 0s - loss: 0.0037 - 470ms/epoch - 3ms/step\n",
      "Epoch 14/20\n",
      "187/187 - 0s - loss: 0.0038 - 432ms/epoch - 2ms/step\n",
      "Epoch 15/20\n",
      "187/187 - 0s - loss: 0.0037 - 486ms/epoch - 3ms/step\n",
      "Epoch 16/20\n",
      "187/187 - 0s - loss: 0.0037 - 454ms/epoch - 2ms/step\n",
      "Epoch 17/20\n",
      "187/187 - 0s - loss: 0.0037 - 432ms/epoch - 2ms/step\n",
      "Epoch 18/20\n",
      "187/187 - 0s - loss: 0.0036 - 455ms/epoch - 2ms/step\n",
      "Epoch 19/20\n",
      "187/187 - 0s - loss: 0.0036 - 432ms/epoch - 2ms/step\n",
      "Epoch 20/20\n",
      "187/187 - 0s - loss: 0.0034 - 455ms/epoch - 2ms/step\n"
     ]
    },
    {
     "data": {
      "text/plain": [
       "<keras.callbacks.History at 0x16cebe1ee20>"
      ]
     },
     "execution_count": 19,
     "metadata": {},
     "output_type": "execute_result"
    }
   ],
   "source": [
    "model = create_RNN(hidden_units=3, dense_units=1, input_shape=(time_steps,1), \n",
    "                   activation=['tanh', 'tanh'])\n",
    "model.fit(trainX, trainY, epochs=20, batch_size=1, verbose=2)"
   ]
  },
  {
   "cell_type": "code",
   "execution_count": 20,
   "id": "38760194",
   "metadata": {},
   "outputs": [
    {
     "name": "stdout",
     "output_type": "stream",
     "text": [
      "6/6 [==============================] - 0s 3ms/step\n",
      "2/2 [==============================] - 0s 0s/step\n",
      "Train RMSE: 0.059 RMSE\n",
      "Test RMSE: 0.087 RMSE\n"
     ]
    }
   ],
   "source": [
    "def print_error(trainY, testY, train_predict, test_predict):    \n",
    "    # Error of predictions\n",
    "    train_rmse = math.sqrt(mean_squared_error(trainY, train_predict))\n",
    "    test_rmse = math.sqrt(mean_squared_error(testY, test_predict))\n",
    "    # Print RMSE\n",
    "    print('Train RMSE: %.3f RMSE' % (train_rmse))\n",
    "    print('Test RMSE: %.3f RMSE' % (test_rmse))    \n",
    " \n",
    "# make predictions\n",
    "train_predict = model.predict(trainX)\n",
    "test_predict = model.predict(testX)\n",
    "# Mean square error\n",
    "print_error(trainY, testY, train_predict, test_predict)"
   ]
  },
  {
   "cell_type": "code",
   "execution_count": 21,
   "id": "ec2deaa3",
   "metadata": {},
   "outputs": [
    {
     "data": {
      "image/png": "[encoded data removed]",
      "text/plain": [
       "<Figure size 1200x480 with 1 Axes>"
      ]
     },
     "metadata": {
      "needs_background": "light"
     },
     "output_type": "display_data"
    }
   ],
   "source": [
    "# Plot the result\n",
    "def plot_result(trainY, testY, train_predict, test_predict):\n",
    "    actual = np.append(trainY, testY)\n",
    "    predictions = np.append(train_predict, test_predict)\n",
    "    rows = len(actual)\n",
    "    plt.figure(figsize=(15, 6), dpi=80)\n",
    "    plt.plot(range(rows), actual)\n",
    "    plt.plot(range(rows), predictions)\n",
    "    plt.axvline(x=len(trainY), color='r')\n",
    "    plt.legend(['Actual', 'Predictions'])\n",
    "    plt.xlabel('Observation number after given time steps')\n",
    "    plt.ylabel('Sunspots scaled')\n",
    "    plt.title('Actual and Predicted Values. The Red Line Separates The Training And Test Examples')\n",
    "plot_result(trainY, testY, train_predict, test_predict)"
   ]
  },
  {
   "cell_type": "markdown",
   "id": "34272d41",
   "metadata": {},
   "source": [
    "Como vimos, en cada tiempo $t$ las RNN hacen uso de una variable $h_{t-1}$ la cual almacena el contexto del tiempo anterior, a partir del cual se calcula el contexto $h_t$ y la salida de la capa recurrente en el tiempo $t$. Sin embargo,\n",
    "en el tiempo $t + 1$, ya no se consideraria $h_{t-1}$. Lo cual resulta un inconveniente pues en muchas ocasiones un contexto en 2 o mas tiempos atras resulta de mayor utilidad que el contexto anterior, como por ejemplo para el autocompletado de texto. Ademas, en secuencias de procesamiento lo suficientemente grandes, el gradiente suele desvanecerse al hacer backpropagation, por lo que las primeras capas casi no se entrenaran. En estos casos es de gran utilidad hacer uso de las Long-short Term Memory (LSTM) y las Gate Recurrente Unit (GRU).\n",
    "\n",
    "<img src=\"yBXV9o5q7L_CvY7quJt3WQ.png\"/>"
   ]
  },
  {
   "cell_type": "markdown",
   "id": "971b1dbe",
   "metadata": {},
   "source": [
    "# GRU"
   ]
  },
  {
   "cell_type": "markdown",
   "id": "dc3654cb",
   "metadata": {},
   "source": [
    "Las **GRU** hacen uso de una celda de memoria $c$, en la cual se almacena el contexto de mayor importancia en cada momento, es decir, en un tiempo $t$, se decide si es mejor almacenar el contexto anterior que se poseia en esta variable $c$, o resulta mas adecuado reemplazar el valor de la misma por un contexto candidato $\\hat{c}$.\n",
    "\n",
    "Para cada capa recurrente, inicialmente $c_t = h_t$, luego se calcula un candidato $\\hat{c}_t = m(x_t \\cdot w_x + c_{t-1} \\cdot w_c + b_c)$, donde $m$ es una funcion de activacion, por ejemplo la tangente hiperbolica, $w_c$ son los pesos asociados al contexto y $b_c$ el bias (ver el producto Hadamard https://en.wikipedia.org/wiki/Hadamard_product_(matrices)). Luego, se calcula una compuerta $\\Gamma_u$, la cual haciendo uso de la funcion sigmoide toma valores 1 o 0, para indicar si se actualiza o no $c$, de forma tal que $\\Gamma_u = \\sigma(x_t \\cdot w_x + c_{t-1} \\cdot w_u + b_u)$ y finalmente $c_t = \\Gamma_u \\cdot \\hat{c}_t + (1 - \\Gamma_u) \\cdot c_{t-1}$. Para mas informacion visita https://towardsdatascience.com/illustrated-guide-to-lstms-and-gru-s-a-step-by-step-explanation-44e9eb85bf21\n",
    "\n",
    "<img src=\"gru.png\"/>"
   ]
  },
  {
   "cell_type": "markdown",
   "id": "1f825dc2",
   "metadata": {},
   "source": [
    "# Ejemplo"
   ]
  },
  {
   "cell_type": "markdown",
   "id": "2bab35bd",
   "metadata": {},
   "source": [
    "El ejemplo fue tomado de https://pythonalgos.com/build-a-gru-rnn-in-keras/"
   ]
  },
  {
   "cell_type": "code",
   "execution_count": 22,
   "id": "e78c2cf8",
   "metadata": {},
   "outputs": [
    {
     "name": "stdout",
     "output_type": "stream",
     "text": [
      "Model: \"sequential_2\"\n",
      "_________________________________________________________________\n",
      " Layer (type)                Output Shape              Param #   \n",
      "=================================================================\n",
      " gru (GRU)                   (None, 64)                18048     \n",
      "                                                                 \n",
      " batch_normalization (BatchN  (None, 64)               256       \n",
      " ormalization)                                                   \n",
      "                                                                 \n",
      " dense_2 (Dense)             (None, 10)                650       \n",
      "                                                                 \n",
      "=================================================================\n",
      "Total params: 18,954\n",
      "Trainable params: 18,826\n",
      "Non-trainable params: 128\n",
      "_________________________________________________________________\n",
      "None\n"
     ]
    }
   ],
   "source": [
    "model = keras.Sequential()\n",
    "model.add(layers.GRU(64, input_shape=(28, 28)))\n",
    "model.add(layers.BatchNormalization())\n",
    "model.add(layers.Dense(10))\n",
    "\n",
    "print(model.summary())"
   ]
  },
  {
   "cell_type": "code",
   "execution_count": 23,
   "id": "c1870a65",
   "metadata": {},
   "outputs": [],
   "source": [
    "mnist = keras.datasets.mnist\n",
    "(x_train, y_train), (x_test, y_test) = mnist.load_data()\n",
    "x_train, x_test = x_train/255.0, x_test/255.0\n",
    "x_validate, y_validate = x_test[:-10], y_test[:-10]\n",
    "x_test, y_test = x_test[-10:], y_test[-10:]"
   ]
  },
  {
   "cell_type": "code",
   "execution_count": 24,
   "id": "f4af6c01",
   "metadata": {},
   "outputs": [],
   "source": [
    "model.compile(\n",
    "    loss=keras.losses.SparseCategoricalCrossentropy(from_logits=True),\n",
    "    optimizer=\"sgd\",\n",
    "    metrics=[\"accuracy\"],\n",
    ")"
   ]
  },
  {
   "cell_type": "code",
   "execution_count": 25,
   "id": "61c150c7",
   "metadata": {},
   "outputs": [
    {
     "name": "stdout",
     "output_type": "stream",
     "text": [
      "Epoch 1/10\n",
      "938/938 [==============================] - 22s 20ms/step - loss: 1.4428 - accuracy: 0.5095 - val_loss: 1.0609 - val_accuracy: 0.6491\n",
      "Epoch 2/10\n",
      "938/938 [==============================] - 18s 19ms/step - loss: 0.8053 - accuracy: 0.7339 - val_loss: 0.6402 - val_accuracy: 0.7877\n",
      "Epoch 3/10\n",
      "938/938 [==============================] - 18s 20ms/step - loss: 0.5582 - accuracy: 0.8187 - val_loss: 0.4566 - val_accuracy: 0.8532\n",
      "Epoch 4/10\n",
      "938/938 [==============================] - 18s 19ms/step - loss: 0.3918 - accuracy: 0.8770 - val_loss: 0.3351 - val_accuracy: 0.8952\n",
      "Epoch 5/10\n",
      "938/938 [==============================] - 18s 19ms/step - loss: 0.3098 - accuracy: 0.9043 - val_loss: 0.2725 - val_accuracy: 0.9180\n",
      "Epoch 6/10\n",
      "938/938 [==============================] - 18s 19ms/step - loss: 0.2623 - accuracy: 0.9187 - val_loss: 0.2541 - val_accuracy: 0.9178\n",
      "Epoch 7/10\n",
      "938/938 [==============================] - 18s 19ms/step - loss: 0.2291 - accuracy: 0.9295 - val_loss: 0.2752 - val_accuracy: 0.9082\n",
      "Epoch 8/10\n",
      "938/938 [==============================] - 18s 19ms/step - loss: 0.2032 - accuracy: 0.9365 - val_loss: 0.1831 - val_accuracy: 0.9432\n",
      "Epoch 9/10\n",
      "938/938 [==============================] - 18s 19ms/step - loss: 0.1819 - accuracy: 0.9438 - val_loss: 0.1744 - val_accuracy: 0.9456\n",
      "Epoch 10/10\n",
      "938/938 [==============================] - 18s 19ms/step - loss: 0.1633 - accuracy: 0.9487 - val_loss: 0.1410 - val_accuracy: 0.9542\n"
     ]
    },
    {
     "data": {
      "text/plain": [
       "<keras.callbacks.History at 0x16cef0ecbe0>"
      ]
     },
     "execution_count": 25,
     "metadata": {},
     "output_type": "execute_result"
    }
   ],
   "source": [
    "model.fit(x_train, y_train, validation_data=(x_validate, y_validate), batch_size=64, epochs=10)"
   ]
  },
  {
   "cell_type": "code",
   "execution_count": 26,
   "id": "69f7144a",
   "metadata": {},
   "outputs": [
    {
     "name": "stdout",
     "output_type": "stream",
     "text": [
      "1/1 [==============================] - 0s 432ms/step\n",
      "[7] 7\n",
      "1/1 [==============================] - 0s 16ms/step\n",
      "[8] 8\n",
      "1/1 [==============================] - 0s 31ms/step\n",
      "[9] 9\n",
      "1/1 [==============================] - 0s 16ms/step\n",
      "[0] 0\n",
      "1/1 [==============================] - 0s 22ms/step\n",
      "[1] 1\n",
      "1/1 [==============================] - 0s 16ms/step\n",
      "[2] 2\n",
      "1/1 [==============================] - 0s 22ms/step\n",
      "[3] 3\n",
      "1/1 [==============================] - 0s 31ms/step\n",
      "[4] 4\n",
      "1/1 [==============================] - 0s 31ms/step\n",
      "[5] 5\n",
      "1/1 [==============================] - 0s 22ms/step\n",
      "[6] 6\n"
     ]
    }
   ],
   "source": [
    "for i in range(10):\n",
    "    result = tf.argmax(model.predict(tf.expand_dims(x_test[i], 0)), axis=1)\n",
    "    print(result.numpy(), y_test[i])"
   ]
  },
  {
   "cell_type": "markdown",
   "id": "66943964",
   "metadata": {},
   "source": [
    "# LSTM"
   ]
  },
  {
   "cell_type": "markdown",
   "id": "5fca2bdd",
   "metadata": {},
   "source": [
    "LSTM es de acuerdo a varios autores incluso mas poderoso que GRU, a continuacion veremos por que: "
   ]
  },
  {
   "cell_type": "markdown",
   "id": "730a0fc1",
   "metadata": {},
   "source": [
    "A diferencia de **GRU**, en **LSTM** no se parte inicializando $c_t$ a $h_t$, sino que se calcula un candidato $\\hat{c}_t = m(x_t \\cdot w_x + h_{t-1} \\cdot w_h + b_c)$, donde al igual que en la definicion de **GRU**, $m$ es una funcion de activacion, usualmente la tangente hiperbolica. Debemos recordar que resulta de gran utilidad el uso de la tangente hiperbolica pues esta garantiza que al aplicar la misma los resultados esten en el rango [-1,1], lo que imposibilita ocurra un <i>exploding gradient</i>, es decir, que a medida que se haga <i>backpropagation</i> el gradiente se vaya incrementando considerablemente hasta que llegado un momento obtengamos que no es un numero (**nan**).\n",
    "\n",
    "Luego, debemos calcular las compuertas $\\Gamma_u$, $\\Gamma_f$ y $\\Gamma_o$, las dos primeras refieren a si debemos actualizar u olvidar la entrada, mientras que la tercera esta asociada a la salida."
   ]
  },
  {
   "cell_type": "markdown",
   "id": "bf53634e",
   "metadata": {},
   "source": [
    "$$\\Gamma_u = \\sigma(x_t \\cdot w_x + a_{t-1} \\cdot w_u + b_u)$$<br/>\n",
    "$$\\Gamma_f = \\sigma(x_t \\cdot w_x + a_{t-1} \\cdot w_f + b_f)$$<br/>\n",
    "$$\\Gamma_o = \\sigma(x_t \\cdot w_x + a_{t-1} \\cdot w_o + b_o)$$"
   ]
  },
  {
   "cell_type": "markdown",
   "id": "df86f1a8",
   "metadata": {},
   "source": [
    "Y luego, para calcular $c_t$ bastaria con: $$c_t = \\Gamma_u \\cdot \\hat{c}_t + \\Gamma_f \\cdot c_{t-1}$$"
   ]
  },
  {
   "cell_type": "markdown",
   "id": "4cdb65e7",
   "metadata": {},
   "source": [
    "Finalmente, utilizariamos $\\Gamma_o$ para la actualizacion de $h_t$, de forma tal que: $$h_t = \\Gamma_o \\cdot tanh(c_t)$$"
   ]
  },
  {
   "cell_type": "markdown",
   "id": "b1216e96",
   "metadata": {},
   "source": [
    "Como vemos, al igual que en **GRU**, en **LSTM** ademas de los datos de entrada, cada capa recurrente en un tiempo $t$, recibe un $h_t$ y un $c_t$. Es decir, lo unico que varia de uno a otro es el numero de compuertas logicas internas que utilizan, donde **LSTM** utiliza 3, mientras que **GRU** emplea 2."
   ]
  },
  {
   "cell_type": "markdown",
   "id": "b848d66a",
   "metadata": {},
   "source": [
    "# Ejemplo"
   ]
  },
  {
   "cell_type": "code",
   "execution_count": 30,
   "id": "99278d01",
   "metadata": {},
   "outputs": [
    {
     "name": "stdout",
     "output_type": "stream",
     "text": [
      "Loading data...\n",
      "25000 train sequences\n",
      "25000 test sequences\n",
      "Pad sequences (samples x time)\n",
      "x_train shape: (25000, 80)\n",
      "x_test shape: (25000, 80)\n",
      "Build model...\n",
      "Train...\n",
      "Epoch 1/15\n",
      "782/782 [==============================] - 210s 264ms/step - loss: 0.4218 - accuracy: 0.8040 - val_loss: 0.3716 - val_accuracy: 0.8391\n",
      "Epoch 2/15\n",
      "782/782 [==============================] - 206s 264ms/step - loss: 0.2577 - accuracy: 0.8967 - val_loss: 0.4048 - val_accuracy: 0.8313\n",
      "Epoch 3/15\n",
      "782/782 [==============================] - 200s 256ms/step - loss: 0.1659 - accuracy: 0.9371 - val_loss: 0.4177 - val_accuracy: 0.8295\n",
      "Epoch 4/15\n",
      "782/782 [==============================] - 203s 259ms/step - loss: 0.1069 - accuracy: 0.9607 - val_loss: 0.6820 - val_accuracy: 0.8179\n",
      "Epoch 5/15\n",
      "782/782 [==============================] - 201s 257ms/step - loss: 0.0780 - accuracy: 0.9726 - val_loss: 0.5901 - val_accuracy: 0.8137\n",
      "Epoch 6/15\n",
      "782/782 [==============================] - 200s 256ms/step - loss: 0.0581 - accuracy: 0.9806 - val_loss: 0.6217 - val_accuracy: 0.8200\n",
      "Epoch 7/15\n",
      "782/782 [==============================] - 212s 271ms/step - loss: 0.0392 - accuracy: 0.9868 - val_loss: 0.7727 - val_accuracy: 0.8196\n",
      "Epoch 8/15\n",
      "782/782 [==============================] - 206s 264ms/step - loss: 0.0262 - accuracy: 0.9918 - val_loss: 0.9073 - val_accuracy: 0.8115\n",
      "Epoch 9/15\n",
      "782/782 [==============================] - 202s 258ms/step - loss: 0.0251 - accuracy: 0.9913 - val_loss: 0.8523 - val_accuracy: 0.8068\n",
      "Epoch 10/15\n",
      "782/782 [==============================] - 204s 260ms/step - loss: 0.0198 - accuracy: 0.9934 - val_loss: 0.9482 - val_accuracy: 0.8176\n",
      "Epoch 11/15\n",
      "782/782 [==============================] - 201s 258ms/step - loss: 0.0202 - accuracy: 0.9938 - val_loss: 0.8870 - val_accuracy: 0.8075\n",
      "Epoch 12/15\n",
      "782/782 [==============================] - 201s 256ms/step - loss: 0.0132 - accuracy: 0.9959 - val_loss: 0.9993 - val_accuracy: 0.8134\n",
      "Epoch 13/15\n",
      "782/782 [==============================] - 213s 272ms/step - loss: 0.0136 - accuracy: 0.9956 - val_loss: 1.0259 - val_accuracy: 0.7990\n",
      "Epoch 14/15\n",
      "782/782 [==============================] - 232s 296ms/step - loss: 0.0137 - accuracy: 0.9958 - val_loss: 1.3167 - val_accuracy: 0.7963\n",
      "Epoch 15/15\n",
      "782/782 [==============================] - 200s 256ms/step - loss: 0.0166 - accuracy: 0.9946 - val_loss: 1.2437 - val_accuracy: 0.8063\n",
      "782/782 [==============================] - 19s 25ms/step - loss: 1.2437 - accuracy: 0.8063\n",
      "Test score: 1.2436524629592896\n",
      "Test accuracy: 0.8062800168991089\n"
     ]
    }
   ],
   "source": [
    "from __future__ import print_function\n",
    "\n",
    "from keras.utils import pad_sequences\n",
    "from keras.models import Sequential\n",
    "from keras.layers import Dense, Embedding\n",
    "from keras.layers import LSTM\n",
    "from keras.datasets import imdb\n",
    "\n",
    "max_features = 20000\n",
    "maxlen = 80  # cut texts after this number of words (among top max_features most common words)\n",
    "batch_size = 32\n",
    "\n",
    "print('Loading data...')\n",
    "(x_train, y_train), (x_test, y_test) = imdb.load_data(num_words=max_features)\n",
    "print(len(x_train), 'train sequences')\n",
    "print(len(x_test), 'test sequences')\n",
    "\n",
    "print('Pad sequences (samples x time)')\n",
    "x_train = pad_sequences(x_train, maxlen=maxlen)\n",
    "x_test = pad_sequences(x_test, maxlen=maxlen)\n",
    "print('x_train shape:', x_train.shape)\n",
    "print('x_test shape:', x_test.shape)\n",
    "\n",
    "print('Build model...')\n",
    "model = Sequential()\n",
    "model.add(Embedding(max_features, 128))\n",
    "model.add(LSTM(128, dropout=0.2, recurrent_dropout=0.2))\n",
    "model.add(Dense(1, activation='sigmoid'))\n",
    "\n",
    "# try using different optimizers and different optimizer configs\n",
    "model.compile(loss='binary_crossentropy', optimizer='adam', metrics=['accuracy'])\n",
    "\n",
    "print('Train...')\n",
    "model.fit(x_train, y_train,\n",
    "          batch_size=batch_size,\n",
    "          epochs=15,\n",
    "          validation_data=(x_test, y_test))\n",
    "\n",
    "score, acc = model.evaluate(x_test, y_test, batch_size=batch_size)\n",
    "\n",
    "print('Test score:', score)\n",
    "print('Test accuracy:', acc)"
   ]
  },
  {
   "cell_type": "code",
   "execution_count": null,
   "id": "c1bfe6cb",
   "metadata": {},
   "outputs": [],
   "source": []
  }
 ],
 "metadata": {
  "kernelspec": {
   "display_name": "Python 3 (ipykernel)",
   "language": "python",
   "name": "python3"
  },
  "language_info": {
   "codemirror_mode": {
    "name": "ipython",
    "version": 3
   },
   "file_extension": ".py",
   "mimetype": "text/x-python",
   "name": "python",
   "nbconvert_exporter": "python",
   "pygments_lexer": "ipython3",
   "version": "3.9.7"
  }
 },
 "nbformat": 4,
 "nbformat_minor": 5
}
